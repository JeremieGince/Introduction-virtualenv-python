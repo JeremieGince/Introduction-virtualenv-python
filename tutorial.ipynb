{
 "cells": [
  {
   "cell_type": "markdown",
   "source": [
    "# Python virtual environments"
   ],
   "metadata": {
    "collapsed": false
   }
  },
  {
   "cell_type": "markdown",
   "source": [
    "## What is a virtual environment?\n",
    "\n",
    "A virtual environment is a Python environment such that the Python interpreter, libraries and scripts installed into it are isolated from those installed in other virtual environments, and (by default) any libraries installed in a “system” Python, i.e., one which is installed as part of your operating system.\n",
    "\n",
    "## Why do we need virtual environments?\n",
    "\n",
    "Imagine that you have an application that needs version 1 of LibFoo, but another application requires version 2. How can you use both these applications? If you install everything into /usr/lib/python2.7/site-packages (or whatever your platform’s standard location is), it’s easy to end up in a situation where you unintentionally upgrade an application that shouldn’t be upgraded.\n",
    "\n",
    "In summary, virtual environments are a way of _creating isolated Python environments_ so that you can _work on a specific project_ without worrying about _affecting other projects_."
   ],
   "metadata": {
    "collapsed": false
   }
  },
  {
   "cell_type": "markdown",
   "source": [
    "## How to create a virtual environment?\n",
    "\n",
    "The module used to create and manage virtual environments is called venv. venv will usually install the most recent version of Python that you have available. If you have multiple versions of Python on your system, you can select a specific Python version by running python3 or whichever version you want.\n",
    "\n",
    "To create a virtual environment, decide upon a directory where you want to place it, and run the venv module as a script with the directory path:\n",
    "\n",
    "```bash\n",
    "python3 -m venv tutorial-env\n",
    "```"
   ],
   "metadata": {
    "collapsed": false
   }
  },
  {
   "cell_type": "markdown",
   "source": [
    "## How to activate a virtual environment?\n",
    "\n",
    "Once you’ve created a virtual environment, you may activate it.\n",
    "\n",
    "On Windows, run:\n",
    "```bash\n",
    "tutorial-env\\Scripts\\activate.bat\n",
    "```\n",
    "\n",
    "On Unix or MacOS, run:\n",
    "```bash\n",
    "source tutorial-env/bin/activate\n",
    "```\n",
    "\n",
    "This should change your prompt to the following:\n",
    "```bash\n",
    "(tutorial-env) $\n",
    "```\n",
    "\n",
    "The name of the current virtual environment will now appear on the left of the prompt to let you know that it’s active. From now on, any package that you install using pip will be placed in the tutorial-env folder, isolated from the global Python installation."
   ],
   "metadata": {
    "collapsed": false
   }
  },
  {
   "cell_type": "markdown",
   "source": [
    "## What is this tutorial is about?\n",
    "\n",
    "This tutorial is about how to create and manage virtual environments for Python projects. It will cover setting up a project environment and installing the required Python dependencies into an isolated environment. \n",
    "\n",
    "The goal is that at the end of this tutorial you will understand what is happening when you create and activate a virtual environment. Additionally, you will be able to make a script that creates a virtual environment and installs the required dependencies for your project, a skill that will be useful when you work on a cluster or a remote machine.\n",
    "\n",
    "Note: What you will learn is actually what is happening under the hood of the [TAC](https://github.com/JeremieGince/TPAutoCorrect) package for autograding python homeworks."
   ],
   "metadata": {
    "collapsed": false
   }
  },
  {
   "cell_type": "code",
   "outputs": [],
   "source": [
    "import os\n",
    "import sys\n",
    "import subprocess"
   ],
   "metadata": {
    "executionInfo": {
     "elapsed": 2,
     "status": "ok",
     "timestamp": 1705593177526,
     "user": {
      "displayName": "Jérémie Gince",
      "userId": "04907424960130561507"
     },
     "user_tz": 300
    },
    "id": "yjg5sd3DNaeQ"
   },
   "execution_count": null
  },
  {
   "cell_type": "markdown",
   "source": [
    " After importing the required packages, we will define a dictionary that will be used to get the path to the scripts folder of a virtual environment depending on the operating system."
   ],
   "metadata": {
    "collapsed": false
   }
  },
  {
   "cell_type": "code",
   "execution_count": null,
   "metadata": {
    "executionInfo": {
     "elapsed": 2,
     "status": "ok",
     "timestamp": 1705593177526,
     "user": {
      "displayName": "Jérémie Gince",
      "userId": "04907424960130561507"
     },
     "user_tz": 300
    },
    "id": "F7TlGRg-P_ph"
   },
   "outputs": [],
   "source": [
    "VENV_SCRIPTS_FOLDER_BY_OS = {\n",
    "    \"win32\" : r\"{}\\Scripts\",\n",
    "    \"linux\" : \"{}/bin\",\n",
    "    \"darwin\": \"{}/bin\",\n",
    "}"
   ]
  },
  {
   "cell_type": "markdown",
   "source": [
    "We can now use the dictionary to get the path to the scripts folder of a virtual environment depending on the operating system."
   ],
   "metadata": {
    "collapsed": false
   }
  },
  {
   "cell_type": "code",
   "execution_count": null,
   "metadata": {
    "colab": {
     "base_uri": "https://localhost:8080/",
     "height": 36
    },
    "executionInfo": {
     "elapsed": 173,
     "status": "ok",
     "timestamp": 1705593178508,
     "user": {
      "displayName": "Jérémie Gince",
      "userId": "04907424960130561507"
     },
     "user_tz": 300
    },
    "id": "b5CrReV6QEaJ",
    "outputId": "422b478c-4aab-49a2-c992-279491054eed"
   },
   "outputs": [],
   "source": [
    "print(f\"{sys.platform = }\")\n",
    "print(f\"{VENV_SCRIPTS_FOLDER_BY_OS[sys.platform] = }\")"
   ]
  },
  {
   "cell_type": "markdown",
   "source": [
    "We will now define a function that will run a command and print the stdout and stderr."
   ],
   "metadata": {
    "collapsed": false
   }
  },
  {
   "cell_type": "code",
   "execution_count": null,
   "metadata": {},
   "outputs": [],
   "source": [
    "def run_cmd(cmd):\n",
    "    \"\"\"\n",
    "    Run a command and print the stdout and stderr.\n",
    "    \n",
    "    :Note: This function is equivalent to running the command in a terminal.\n",
    "    \n",
    "    :param cmd: The command to run.\n",
    "    :type cmd: str\n",
    "    :return: None\n",
    "    \"\"\"\n",
    "    print(f\"Command run: {cmd}\")\n",
    "    results = subprocess.run(cmd, stdout=subprocess.PIPE)\n",
    "    stdout = \"None\" if results.stdout is None else results.stdout.decode('utf8')\n",
    "    stderr = \"None\" if results.stderr is None else results.stderr.decode('utf8')\n",
    "    print(f\"stdout: {stdout}\")\n",
    "    print(f\"stderr: {stderr}\")"
   ]
  },
  {
   "cell_type": "markdown",
   "metadata": {
    "id": "8UiY9Wp6PO1z"
   },
   "source": [
    "Here, we will create a virtual environment named venv0 using the venv module and the run_cmd function."
   ]
  },
  {
   "cell_type": "code",
   "execution_count": null,
   "metadata": {
    "colab": {
     "base_uri": "https://localhost:8080/"
    },
    "executionInfo": {
     "elapsed": 509,
     "status": "ok",
     "timestamp": 1705593180448,
     "user": {
      "displayName": "Jérémie Gince",
      "userId": "04907424960130561507"
     },
     "user_tz": 300
    },
    "id": "Xn_UP63GNjnv",
    "outputId": "569de204-5eb3-46dd-99e3-5169e6e1e639"
   },
   "outputs": [],
   "source": [
    "venv0_name = \"venv0\"\n",
    "run_cmd(f\"python -m venv {venv0_name}\")"
   ]
  },
  {
   "cell_type": "markdown",
   "metadata": {
    "id": "lLS8gAePPWb7"
   },
   "source": [
    "We will also create a virtual environment named venv1 to show that we can have multiple virtual environments."
   ]
  },
  {
   "cell_type": "code",
   "execution_count": null,
   "metadata": {
    "colab": {
     "base_uri": "https://localhost:8080/"
    },
    "executionInfo": {
     "elapsed": 270,
     "status": "ok",
     "timestamp": 1705593186699,
     "user": {
      "displayName": "Jérémie Gince",
      "userId": "04907424960130561507"
     },
     "user_tz": 300
    },
    "id": "YE8JphMHPZVN",
    "outputId": "3e5a899a-ce11-4777-e079-2c185df491ba"
   },
   "outputs": [],
   "source": [
    "venv1_name = \"venv1\"\n",
    "run_cmd(f\"python -m venv {venv1_name}\")"
   ]
  },
  {
   "cell_type": "markdown",
   "source": [
    "We can now see that the virtual environments have been created. After that we can get the path of the python executable of the virtual environments."
   ],
   "metadata": {
    "collapsed": false
   }
  },
  {
   "cell_type": "code",
   "execution_count": null,
   "metadata": {
    "colab": {
     "base_uri": "https://localhost:8080/"
    },
    "executionInfo": {
     "elapsed": 202,
     "status": "ok",
     "timestamp": 1705593200207,
     "user": {
      "displayName": "Jérémie Gince",
      "userId": "04907424960130561507"
     },
     "user_tz": 300
    },
    "id": "iFKEVC4_PobR",
    "outputId": "7142ebea-2d2f-449c-d319-5589431df083"
   },
   "outputs": [],
   "source": [
    "venv0_scripts_path = VENV_SCRIPTS_FOLDER_BY_OS[sys.platform].format(venv0_name)\n",
    "venv0_python_path = os.path.join(venv0_scripts_path, \"python\")\n",
    "print(f\"{venv0_python_path = }\")\n",
    "\n",
    "venv1_scripts_path = VENV_SCRIPTS_FOLDER_BY_OS[sys.platform].format(venv1_name)\n",
    "venv1_python_path = os.path.join(venv1_scripts_path, \"python\")\n",
    "print(f\"{venv1_python_path = }\")"
   ]
  },
  {
   "cell_type": "markdown",
   "source": [
    "We can now use the python executable of the virtual environments to install packages using pip. We will install pandas in venv0 and scikit-learn in venv1."
   ],
   "metadata": {
    "collapsed": false
   }
  },
  {
   "cell_type": "code",
   "execution_count": null,
   "metadata": {
    "colab": {
     "base_uri": "https://localhost:8080/"
    },
    "executionInfo": {
     "elapsed": 146,
     "status": "ok",
     "timestamp": 1705593208147,
     "user": {
      "displayName": "Jérémie Gince",
      "userId": "04907424960130561507"
     },
     "user_tz": 300
    },
    "id": "wMFQHDpPQuQb",
    "outputId": "f166c445-d2bc-4338-880f-db582a6dcb5e"
   },
   "outputs": [],
   "source": [
    "run_cmd(f\"{venv0_python_path} -m pip install pandas\")"
   ]
  },
  {
   "cell_type": "code",
   "execution_count": null,
   "metadata": {
    "colab": {
     "base_uri": "https://localhost:8080/"
    },
    "executionInfo": {
     "elapsed": 96,
     "status": "ok",
     "timestamp": 1705593014947,
     "user": {
      "displayName": "Jérémie Gince",
      "userId": "04907424960130561507"
     },
     "user_tz": 300
    },
    "id": "du4KU6INQ5uw",
    "outputId": "e5c2fe91-7141-4172-db51-de19afd3be87"
   },
   "outputs": [],
   "source": [
    "run_cmd(f\"{venv1_python_path} -m pip install scikit-learn\")"
   ]
  },
  {
   "cell_type": "markdown",
   "source": [
    "We can now see that the packages have been installed in the virtual environments. In the next cell, we get the path of some python scripts that show if the packages have been installed correctly."
   ],
   "metadata": {
    "collapsed": false
   }
  },
  {
   "cell_type": "code",
   "execution_count": null,
   "metadata": {},
   "outputs": [],
   "source": [
    "file_using_pandas = \"main_using_pandas.py\"\n",
    "file_using_sklearn = \"main_using_sklearn.py\""
   ]
  },
  {
   "cell_type": "markdown",
   "source": [
    "We can now run the python files using the venv0 python executable. We can see that the file using pandas works but the file using scikit-learn does not work. It's expected because we only installed pandas in venv0."
   ],
   "metadata": {
    "collapsed": false
   }
  },
  {
   "cell_type": "code",
   "execution_count": null,
   "metadata": {
    "collapsed": false
   },
   "outputs": [],
   "source": [
    "run_cmd(f\"{venv0_python_path} {file_using_pandas}\")\n",
    "run_cmd(f\"{venv0_python_path} {file_using_sklearn}\")"
   ]
  },
  {
   "cell_type": "markdown",
   "source": [
    "This time, we will run the python files using the venv1 python executable. We can see that the file using scikit-learn works but the file using pandas does not work. It's expected because we only installed scikit-learn in venv1."
   ],
   "metadata": {
    "collapsed": false
   }
  },
  {
   "cell_type": "code",
   "execution_count": null,
   "metadata": {
    "collapsed": false
   },
   "outputs": [],
   "source": [
    "run_cmd(f\"{venv1_python_path} {file_using_pandas}\")\n",
    "run_cmd(f\"{venv1_python_path} {file_using_sklearn}\")"
   ]
  },
  {
   "cell_type": "markdown",
   "source": [
    "To be sure what packages are installed in a virtual environment, we can use the pip list command and see that the environments are indeed isolated and have only the packages that we installed."
   ],
   "metadata": {
    "collapsed": false
   }
  },
  {
   "cell_type": "code",
   "execution_count": null,
   "metadata": {},
   "outputs": [],
   "source": [
    "run_cmd(f\"{venv0_python_path} -m pip list\")"
   ]
  },
  {
   "cell_type": "code",
   "execution_count": null,
   "metadata": {
    "scrolled": true
   },
   "outputs": [],
   "source": [
    "run_cmd(f\"{venv1_python_path} -m pip list\")"
   ]
  },
  {
   "cell_type": "markdown",
   "source": [
    "## Using a class to manage virtual environments\n",
    "\n",
    "We will now create a class that will help us manage virtual environments. The class will have the following methods:\n",
    "- create: Create a virtual environment.\n",
    "- run_py_cmd: Run a python command in the virtual environment.\n",
    "- pip_install: Install a package in the virtual environment.\n",
    "- get_pip_list: Get the list of packages installed in the virtual environment.\n",
    "- \\_\\_repr\\_\\_: Return a string representation of the virtual environment.\n",
    "\n",
    "The class will have the following attributes:\n",
    "- name: The name of the virtual environment.\n",
    "- installation_folder: The folder where the virtual environment will be installed.\n",
    "- venv_root_path: The path to the root folder of the virtual environment.\n",
    "- venv_python_path: The path to the python executable of the virtual environment.\n",
    "\n",
    "Note: The class will use the run_cmd function that we defined earlier."
   ],
   "metadata": {
    "collapsed": false
   }
  },
  {
   "cell_type": "code",
   "execution_count": null,
   "metadata": {},
   "outputs": [],
   "source": [
    "class PyVenv:\n",
    "    VENV_SCRIPTS_FOLDER_BY_OS = {\n",
    "        \"win32\" : r\"{}\\Scripts\",\n",
    "        \"linux\" : \"{}/bin\",\n",
    "        \"darwin\": \"{}/bin\",\n",
    "    }\n",
    "    \n",
    "    def __init__(self, name: str = \"venv\", installation_folder: str = \".\"):\n",
    "        self.name = name\n",
    "        self.installation_folder = installation_folder\n",
    "\n",
    "    @property\n",
    "    def venv_root_path(self):\n",
    "        return os.path.join(self.installation_folder, self.name)\n",
    "\n",
    "    @property\n",
    "    def venv_python_path(self):\n",
    "        return os.path.join(self.installation_folder, self.VENV_SCRIPTS_FOLDER_BY_OS[sys.platform].format(self.name), \"python\")\n",
    "\n",
    "    def create(self):\n",
    "        run_cmd(f\"python -m venv {self.venv_root_path}\")\n",
    "\n",
    "    def run_py_cmd(self, cmd: str):\n",
    "        return run_cmd(f\"{self.venv_python_path} {cmd}\")\n",
    "\n",
    "    def pip_install(self, pkg: str):\n",
    "        return self.run_py_cmd(f\"-m pip install {pkg}\")\n",
    "\n",
    "    def get_pip_list(self):\n",
    "        return self.run_py_cmd(f\"-m pip list\")\n",
    "\n",
    "    def __repr__(self):\n",
    "        return f\"{self.name}@{self.installation_folder}\""
   ]
  },
  {
   "cell_type": "markdown",
   "source": [
    "We can now create two virtual environments using the class. You can see that the class is more convenient than before."
   ],
   "metadata": {
    "collapsed": false
   }
  },
  {
   "cell_type": "code",
   "execution_count": null,
   "metadata": {},
   "outputs": [],
   "source": [
    "venv2 = PyVenv(\"venv2\")\n",
    "print(f\"{venv2 = }\")\n",
    "venv3 = PyVenv(\"venv3\")\n",
    "print(f\"{venv3 = }\")"
   ]
  },
  {
   "cell_type": "markdown",
   "source": [
    "We can now create the virtual environments using the create method."
   ],
   "metadata": {
    "collapsed": false
   }
  },
  {
   "cell_type": "code",
   "execution_count": null,
   "metadata": {},
   "outputs": [],
   "source": [
    "venv2.create()"
   ]
  },
  {
   "cell_type": "code",
   "execution_count": null,
   "metadata": {},
   "outputs": [],
   "source": [
    "venv3.create()"
   ]
  },
  {
   "cell_type": "markdown",
   "source": [
    "We can now install pandas in venv2 and scikit-learn in venv3."
   ],
   "metadata": {
    "collapsed": false
   }
  },
  {
   "cell_type": "code",
   "execution_count": null,
   "metadata": {},
   "outputs": [],
   "source": [
    "venv2.get_pip_list()"
   ]
  },
  {
   "cell_type": "code",
   "execution_count": null,
   "metadata": {},
   "outputs": [],
   "source": [
    "venv3.get_pip_list()"
   ]
  },
  {
   "cell_type": "code",
   "outputs": [],
   "source": [
    "venv2.pip_install(\"pandas\")"
   ],
   "metadata": {
    "collapsed": false
   },
   "execution_count": null
  },
  {
   "cell_type": "code",
   "outputs": [],
   "source": [
    "venv3.pip_install(\"scikit-learn\")"
   ],
   "metadata": {
    "collapsed": false
   },
   "execution_count": null
  },
  {
   "cell_type": "code",
   "outputs": [],
   "source": [
    "venv2.get_pip_list()"
   ],
   "metadata": {
    "collapsed": false
   },
   "execution_count": null
  },
  {
   "cell_type": "code",
   "outputs": [],
   "source": [
    "venv3.get_pip_list()"
   ],
   "metadata": {
    "collapsed": false
   },
   "execution_count": null
  },
  {
   "cell_type": "markdown",
   "source": [
    "We can now run the python files using the virtual environments.We will indeed get the same results as before."
   ],
   "metadata": {
    "collapsed": false
   }
  },
  {
   "cell_type": "code",
   "outputs": [],
   "source": [
    "venv2.run_py_cmd(\"main_using_pandas.py\")\n",
    "venv2.run_py_cmd(\"main_using_sklearn.py\")"
   ],
   "metadata": {
    "collapsed": false
   },
   "execution_count": null
  },
  {
   "cell_type": "code",
   "outputs": [],
   "source": [
    "venv3.run_py_cmd(\"main_using_pandas.py\")\n",
    "venv3.run_py_cmd(\"main_using_sklearn.py\")"
   ],
   "metadata": {
    "collapsed": false
   },
   "execution_count": null
  },
  {
   "cell_type": "code",
   "outputs": [],
   "source": [],
   "metadata": {
    "collapsed": false
   }
  },
  {
   "cell_type": "markdown",
   "source": [
    "## Conclusion\n",
    "\n",
    "In this tutorial, we learned how to create and manage virtual environments for Python projects. We also learned how to create a class that will help us manage virtual environments. We hope that you learned something new and that you will use virtual environments in your future projects."
   ],
   "metadata": {
    "collapsed": false
   }
  },
  {
   "cell_type": "code",
   "outputs": [],
   "source": [],
   "metadata": {
    "collapsed": false
   }
  }
 ],
 "metadata": {
  "colab": {
   "authorship_tag": "ABX9TyPPi50oUYRXdbLLHo16p6iG",
   "provenance": []
  },
  "kernelspec": {
   "display_name": "Python 3 (ipykernel)",
   "language": "python",
   "name": "python3"
  },
  "language_info": {
   "codemirror_mode": {
    "name": "ipython",
    "version": 3
   },
   "file_extension": ".py",
   "mimetype": "text/x-python",
   "name": "python",
   "nbconvert_exporter": "python",
   "pygments_lexer": "ipython3",
   "version": "3.9.13"
  }
 },
 "nbformat": 4,
 "nbformat_minor": 4
}
